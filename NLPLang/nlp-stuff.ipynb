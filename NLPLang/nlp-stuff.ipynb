{
 "cells": [
  {
   "cell_type": "code",
<<<<<<< HEAD
   "execution_count": 43,
=======
   "execution_count": null,
>>>>>>> 0811bf8e81dd49040ed502cf811ffdaea0b5cab5
   "id": "4f3aa568",
   "metadata": {
    "scrolled": true
   },
   "outputs": [
    {
     "ename": "",
     "evalue": "",
     "output_type": "error",
     "traceback": [
      "\u001b[1;31mRunning cells with '/usr/local/bin/python3' requires the ipykernel package.\n",
      "\u001b[1;31mRun the following command to install 'ipykernel' into the Python environment. \n",
      "\u001b[1;31mCommand: '/usr/local/bin/python3 -m pip install ipykernel -U --user --force-reinstall'"
     ]
    }
   ],
   "source": [
    "\n",
    "# import nltk\n",
    "# import numpy\n",
    "# import pandas\n",
    "# from nltk import (word_tokenize,\n",
    "#                   sent_tokenize,\n",
    "#                   TreebankWordTokenizer,\n",
    "#                   wordpunct_tokenize,\n",
    "#                   TweetTokenizer,\n",
    "#                   MWETokenizer)\n",
    "\n",
    "\n",
    "# import numpy as np\n",
    "# import pandas as pd\n",
    "# from keras.models import Sequential\n",
    "# from keras.layers import Dense\n",
    "# from keras.layers import Dropout\n",
    "# from keras.layers import LSTM\n",
    "# from keras.utils import np_utils\n",
    "\n",
    "\n",
    "\n",
    "# \"\"\"nltk.download('stopwords')\n",
    "# from nltk.corpus import stopwords\n",
    "# nltk.download('averaged_perceptron_tagger')\n",
    "# nltk.download('wordnet')\n",
    "# nltk.download('omw-1.4')\"\"\"\n",
    "\n",
    "\n",
    "#with open('nlp-input.txt') as dataset:\n",
    "#    lines = str(dataset.readlines())\n",
    "#file = open(\"sentences.txt\", \"r\")\n",
    "#text = file.readlines()[0]\n",
    "#sen_token = sent_tokenize(text)\n",
    "#print(sen_token)\n",
    "\n",
    "text = open(\"sentences.txt\").read()\n",
    "\n",
    "# text = text.lower()\n",
    "\n",
    "# characters = sorted(list(set(text)))\n",
    "# n_to_char = {n:char for n, char in enumerate(characters)}\n",
    "# char_to_n = {char:n for n, char in enumerate(characters)}\n",
    "\n",
    "# X = []\n",
    "# Y = []\n",
    "# length = len(text)\n",
    "# seq_length = 100\n",
    "# for i in range(0, length-seq_length, 1):\n",
    "#    sequence = text[i:i + seq_length]\n",
    "#    label =text[i + seq_length]\n",
    "#    X.append([char_to_n[char] for char in sequence])\n",
    "#    Y.append(char_to_n[label])\n",
    "\n",
    "# #print(\"Test Data - \",Y)\n",
    "\n",
    "# X_modified = np.reshape(X, (len(X), seq_length, 1))\n",
    "# X_modified = X_modified / float(len(characters))\n",
    "# Y_modified = np_utils.to_categorical(Y)\n",
    "\n",
    "\n",
    "# model = Sequential()\n",
    "# model.add(LSTM(400, input_shape=(X_modified.shape[1], X_modified.shape[2]), return_sequences=True))\n",
    "# model.add(Dropout(0.2))\n",
    "# model.add(LSTM(400))\n",
    "# model.add(Dropout(0.2))\n",
    "# model.add(Dense(Y_modified.shape[1], activation='softmax'))\n",
    "# model.compile(loss='categorical_crossentropy', optimizer='adam')\n",
    "\n",
    "\n",
    "# string_mapped = X[99]\n",
    "# # generating characters\n",
    "# for i in range(seq_length):\n",
    "#     x = np.reshape(string_mapped,(1,len(string_mapped), 1))\n",
    "#     x = x / float(len(characters))\n",
    "#     pred_index = np.argmax(model.predict(x, verbose=0))\n",
    "#     seq = [n_to_char[value] for value in string_mapped]\n",
    "#     string_mapped.append(pred_index)\n",
    "#     string_mapped = string_mapped[1:len(string_mapped)]\n",
    "\n",
    "# \"\"\"\n",
    "# tokenized = word_tokenize(lines)\n",
    "# stop_words = stopwords.words('english')\n",
    "\n",
    "# filtered_list = []\n",
    "\n",
    "# for word in tokenized:\n",
    "#     if word.casefold() not in stop_words:\n",
    "#         filtered_list.append(word)\n",
    "\n",
    "# # stemmer = SnowballStemmer(language = 'english')\n",
    "# # stemmed_words = [stemmer.stem(word) for word in filtered_list]\n",
    "\n",
    "# tagged_words = nltk.pos_tag(filtered_list)\n",
    "# # for word in tagged_words\n",
    "\n",
    "# new_tagged_words = []\n",
    "# for word, tag in tagged_words:\n",
    "#     if tag[0] in ['N', 'J', 'I', 'V', 'R']:\n",
    "#         new_tagged_words.append(word)\n",
    "\n",
    "# lemmatizer = WordNetLemmatizer()\n",
    "# lemmatized_words = []\n",
    "# for word, tag in tagged_words:\n",
    "#     wntag = tag[0].lower()\n",
    "#     wntag = wntag if wntag in ['a', 'r', 'n', 'v'] else None\n",
    "#     if not wntag:\n",
    "#         lemma = (word)\n",
    "#     else:\n",
    "#         lemma = (lemmatizer.lemmatize(word, pos = wntag))\n",
    "#     lemmatized_words.append(lemma)\n",
    "\n",
    "# def extract_ne(array):\n",
    "#     tree = nltk.ne_chunk(tagged_words, binary = True)\n",
    "#     return set(\n",
    "#         \" \".join(i[0] for i in t) \n",
    "#         for t in tree\n",
    "#         if hasattr(t, \"label\")\n",
    "#     )\n",
    "\n",
    "# # named_entities = extract_ne(tagged_words)\n",
    "\n",
    "# # new_text = nltk.Text(lemmatized_words)\n",
    "# # freqdist = FreqDist(good_words)\n",
    "# # freqdist.most_common(20)\n",
    "\n",
    "# print(new_tagged_words)\n",
    "# \"\"\"\n",
    "\n",
    "\n",
    "import tensorflow as tf\n",
    "\n",
    "import numpy as np\n",
    "import os\n",
    "import time\n"
   ]
  },
  {
   "cell_type": "code",
<<<<<<< HEAD
   "execution_count": 44,
   "id": "365f519c",
=======
   "execution_count": null,
   "id": "daee30d6",
>>>>>>> 0811bf8e81dd49040ed502cf811ffdaea0b5cab5
   "metadata": {},
   "outputs": [
    {
     "ename": "",
     "evalue": "",
     "output_type": "error",
     "traceback": [
      "\u001b[1;31mRunning cells with '/usr/local/bin/python3' requires the ipykernel package.\n",
      "\u001b[1;31mRun the following command to install 'ipykernel' into the Python environment. \n",
      "\u001b[1;31mCommand: '/usr/local/bin/python3 -m pip install ipykernel -U --user --force-reinstall'"
     ]
    }
   ],
   "source": [
    "!install keras"
   ]
  },
  {
   "cell_type": "code",
<<<<<<< HEAD
   "execution_count": 45,
   "id": "ff2ef464",
   "metadata": {},
   "outputs": [
    {
     "name": "stdout",
     "output_type": "stream",
     "text": [
      "Requirement already satisfied: keras in c:\\users\\harry\\anaconda3\\lib\\site-packages (2.14.0)\n"
=======
   "execution_count": null,
   "id": "d5f76f25",
   "metadata": {},
   "outputs": [
    {
     "ename": "",
     "evalue": "",
     "output_type": "error",
     "traceback": [
      "\u001b[1;31mRunning cells with '/usr/local/bin/python3' requires the ipykernel package.\n",
      "\u001b[1;31mRun the following command to install 'ipykernel' into the Python environment. \n",
      "\u001b[1;31mCommand: '/usr/local/bin/python3 -m pip install ipykernel -U --user --force-reinstall'"
>>>>>>> 0811bf8e81dd49040ed502cf811ffdaea0b5cab5
     ]
    }
   ],
   "source": [
    "!pip install keras"
   ]
  },
  {
   "cell_type": "code",
<<<<<<< HEAD
   "execution_count": 46,
   "id": "8e548a78",
   "metadata": {},
   "outputs": [
    {
     "name": "stdout",
     "output_type": "stream",
     "text": [
      "^C\n"
=======
   "execution_count": null,
   "id": "97adacee",
   "metadata": {},
   "outputs": [
    {
     "ename": "",
     "evalue": "",
     "output_type": "error",
     "traceback": [
      "\u001b[1;31mRunning cells with '/usr/local/bin/python3' requires the ipykernel package.\n",
      "\u001b[1;31mRun the following command to install 'ipykernel' into the Python environment. \n",
      "\u001b[1;31mCommand: '/usr/local/bin/python3 -m pip install ipykernel -U --user --force-reinstall'"
>>>>>>> 0811bf8e81dd49040ed502cf811ffdaea0b5cab5
     ]
    }
   ],
   "source": [
    "!pip install TensorFlow"
   ]
  },
  {
   "cell_type": "code",
<<<<<<< HEAD
   "execution_count": 47,
   "id": "d7bf70e1",
   "metadata": {},
   "outputs": [
    {
     "name": "stdout",
     "output_type": "stream",
     "text": [
      "^C\n"
=======
   "execution_count": null,
   "id": "60790dc4",
   "metadata": {},
   "outputs": [
    {
     "ename": "",
     "evalue": "",
     "output_type": "error",
     "traceback": [
      "\u001b[1;31mRunning cells with '/usr/local/bin/python3' requires the ipykernel package.\n",
      "\u001b[1;31mRun the following command to install 'ipykernel' into the Python environment. \n",
      "\u001b[1;31mCommand: '/usr/local/bin/python3 -m pip install ipykernel -U --user --force-reinstall'"
>>>>>>> 0811bf8e81dd49040ed502cf811ffdaea0b5cab5
     ]
    }
   ],
   "source": [
    "!pip3 install numpy --upgrade"
   ]
  },
  {
   "cell_type": "code",
<<<<<<< HEAD
   "execution_count": 34,
   "id": "217aff08",
=======
   "execution_count": null,
   "id": "0ecf96bd",
>>>>>>> 0811bf8e81dd49040ed502cf811ffdaea0b5cab5
   "metadata": {},
   "outputs": [
    {
     "ename": "",
     "evalue": "",
     "output_type": "error",
     "traceback": [
      "\u001b[1;31mRunning cells with '/usr/local/bin/python3' requires the ipykernel package.\n",
      "\u001b[1;31mRun the following command to install 'ipykernel' into the Python environment. \n",
      "\u001b[1;31mCommand: '/usr/local/bin/python3 -m pip install ipykernel -U --user --force-reinstall'"
     ]
    }
   ],
   "source": [
    "!pip3 install numpy --upgrade"
   ]
  },
  {
   "cell_type": "code",
<<<<<<< HEAD
   "execution_count": 36,
   "id": "3214afea",
=======
   "execution_count": null,
   "id": "c59dcab7",
>>>>>>> 0811bf8e81dd49040ed502cf811ffdaea0b5cab5
   "metadata": {},
   "outputs": [
    {
     "ename": "",
     "evalue": "",
     "output_type": "error",
     "traceback": [
      "\u001b[1;31mRunning cells with '/usr/local/bin/python3' requires the ipykernel package.\n",
      "\u001b[1;31mRun the following command to install 'ipykernel' into the Python environment. \n",
      "\u001b[1;31mCommand: '/usr/local/bin/python3 -m pip install ipykernel -U --user --force-reinstall'"
     ]
    }
   ],
   "source": [
    "pip install numpy==1.21.6"
   ]
  },
  {
   "cell_type": "code",
<<<<<<< HEAD
   "execution_count": 38,
   "id": "956c6b6c",
=======
   "execution_count": null,
   "id": "d6896852",
>>>>>>> 0811bf8e81dd49040ed502cf811ffdaea0b5cab5
   "metadata": {},
   "outputs": [
    {
     "ename": "",
     "evalue": "",
     "output_type": "error",
     "traceback": [
      "\u001b[1;31mRunning cells with '/usr/local/bin/python3' requires the ipykernel package.\n",
      "\u001b[1;31mRun the following command to install 'ipykernel' into the Python environment. \n",
      "\u001b[1;31mCommand: '/usr/local/bin/python3 -m pip install ipykernel -U --user --force-reinstall'"
     ]
    }
   ],
   "source": [
    "import tensorflow as tf\n",
    "print(tf.__version__)"
   ]
  },
  {
   "cell_type": "code",
<<<<<<< HEAD
   "execution_count": 42,
   "id": "06c73a80",
=======
   "execution_count": null,
   "id": "fe1a3026",
>>>>>>> 0811bf8e81dd49040ed502cf811ffdaea0b5cab5
   "metadata": {},
   "outputs": [
    {
     "ename": "",
     "evalue": "",
     "output_type": "error",
     "traceback": [
      "\u001b[1;31mRunning cells with '/usr/local/bin/python3' requires the ipykernel package.\n",
      "\u001b[1;31mRun the following command to install 'ipykernel' into the Python environment. \n",
      "\u001b[1;31mCommand: '/usr/local/bin/python3 -m pip install ipykernel -U --user --force-reinstall'"
     ]
    }
   ],
   "source": [
    "pip uninstall tensorflow"
   ]
  },
  {
   "cell_type": "code",
   "execution_count": null,
   "id": "ed3c42cb",
   "metadata": {},
   "outputs": [
    {
     "ename": "",
     "evalue": "",
     "output_type": "error",
     "traceback": [
      "\u001b[1;31mRunning cells with '/usr/local/bin/python3' requires the ipykernel package.\n",
      "\u001b[1;31mRun the following command to install 'ipykernel' into the Python environment. \n",
      "\u001b[1;31mCommand: '/usr/local/bin/python3 -m pip install ipykernel -U --user --force-reinstall'"
     ]
    }
   ],
   "source": []
  }
 ],
 "metadata": {
  "kernelspec": {
   "display_name": "Python 3 (ipykernel)",
   "language": "python",
   "name": "python3"
  },
  "language_info": {
   "codemirror_mode": {
    "name": "ipython",
    "version": 3
   },
   "file_extension": ".py",
   "mimetype": "text/x-python",
   "name": "python",
   "nbconvert_exporter": "python",
   "pygments_lexer": "ipython3",
   "version": "3.11.2"
  }
 },
 "nbformat": 4,
 "nbformat_minor": 5
}
