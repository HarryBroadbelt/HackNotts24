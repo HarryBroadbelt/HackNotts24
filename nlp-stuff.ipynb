{
 "cells": [
  {
   "cell_type": "code",
   "execution_count": 83,
   "id": "4f3aa568",
   "metadata": {},
   "outputs": [
    {
     "ename": "ModuleNotFoundError",
     "evalue": "No module named 'pandasai'",
     "output_type": "error",
     "traceback": [
      "\u001b[1;31m---------------------------------------------------------------------------\u001b[0m",
      "\u001b[1;31mModuleNotFoundError\u001b[0m                       Traceback (most recent call last)",
      "\u001b[1;32m~\\AppData\\Local\\Temp\\ipykernel_30960\\3340803341.py\u001b[0m in \u001b[0;36m<module>\u001b[1;34m\u001b[0m\n\u001b[0;32m      2\u001b[0m \u001b[1;32mimport\u001b[0m \u001b[0mnumpy\u001b[0m\u001b[1;33m\u001b[0m\u001b[1;33m\u001b[0m\u001b[0m\n\u001b[0;32m      3\u001b[0m \u001b[1;32mimport\u001b[0m \u001b[0mpandas\u001b[0m\u001b[1;33m\u001b[0m\u001b[1;33m\u001b[0m\u001b[0m\n\u001b[1;32m----> 4\u001b[1;33m \u001b[1;32mimport\u001b[0m \u001b[0mpandasai\u001b[0m\u001b[1;33m\u001b[0m\u001b[1;33m\u001b[0m\u001b[0m\n\u001b[0m\u001b[0;32m      5\u001b[0m \u001b[1;32mfrom\u001b[0m \u001b[0mnltk\u001b[0m \u001b[1;32mimport\u001b[0m \u001b[1;33m*\u001b[0m\u001b[1;33m\u001b[0m\u001b[1;33m\u001b[0m\u001b[0m\n\u001b[0;32m      6\u001b[0m \u001b[1;33m\u001b[0m\u001b[0m\n",
      "\u001b[1;31mModuleNotFoundError\u001b[0m: No module named 'pandasai'"
     ]
    }
   ],
   "source": [
    "import nltk\n",
    "import numpy\n",
    "import pandas\n",
    "from nltk import *\n",
    "\n",
    "with open('nlp-input.txt') as dataset:\n",
    "    lines = str(dataset.readlines())\n",
    "\n",
    "tokenized = word_tokenize(lines)\n",
    "stop_words = stopwords.words('english')\n",
    "\n",
    "filtered_list = []\n",
    "\n",
    "for word in tokenized:\n",
    "    if word.casefold() not in stop_words:\n",
    "        filtered_list.append(word)\n",
    "\n",
    "# stemmer = SnowballStemmer(language = 'english')\n",
    "# stemmed_words = [stemmer.stem(word) for word in filtered_list]\n",
    "\n",
    "tagged_words = nltk.pos_tag(filtered_list)\n",
    "# for word in tagged_words\n",
    "\n",
    "lemmatizer = WordNetLemmatizer()\n",
    "lemmatized_words = []\n",
    "for word, tag in tagged_words:\n",
    "    wntag = tag[0].lower()\n",
    "    wntag = wntag if wntag in ['a', 'r', 'n', 'v'] else None\n",
    "    if not wntag:\n",
    "        lemma = (word)\n",
    "    else:\n",
    "        lemma = (lemmatizer.lemmatize(word, pos = wntag))\n",
    "    lemmatized_words.append(lemma)\n",
    "\n",
    "def extract_ne(array):\n",
    "    tree = nltk.ne_chunk(tagged_words, binary = True)\n",
    "    return set(\n",
    "        \" \".join(i[0] for i in t) \n",
    "        for t in tree\n",
    "        if hasattr(t, \"label\")\n",
    "    )\n",
    "\n",
    "# named_entities = extract_ne(tagged_words)\n",
    "\n",
    "# new_text = nltk.Text(lemmatized_words)\n",
    "# freqdist = FreqDist(good_words)\n",
    "# freqdist.most_common(20)\n",
    "\n",
    "print(tagged_words)"
   ]
  }
 ],
 "metadata": {
  "kernelspec": {
   "display_name": "Python 3 (ipykernel)",
   "language": "python",
   "name": "python3"
  },
  "language_info": {
   "codemirror_mode": {
    "name": "ipython",
    "version": 3
   },
   "file_extension": ".py",
   "mimetype": "text/x-python",
   "name": "python",
   "nbconvert_exporter": "python",
   "pygments_lexer": "ipython3",
   "version": "3.9.13"
  }
 },
 "nbformat": 4,
 "nbformat_minor": 5
}
